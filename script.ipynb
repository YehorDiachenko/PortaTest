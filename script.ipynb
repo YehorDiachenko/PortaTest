{
 "cells": [
  {
   "cell_type": "markdown",
   "metadata": {},
   "source": [
    "# PortaOne Test Assignment\n",
    "### by Yehor Diachenko"
   ]
  },
  {
   "cell_type": "markdown",
   "metadata": {},
   "source": [
    "#### Step 0\n",
    "Open and read the content of the file 10m.txt and put in array"
   ]
  },
  {
   "cell_type": "code",
   "execution_count": 3,
   "metadata": {},
   "outputs": [],
   "source": [
    "filepath = 'src/10m.txt'\n",
    "numbers = []\n",
    "\n",
    "with open(filepath, 'r') as file:\n",
    "    for line in file:\n",
    "        line = line.strip()\n",
    "        if line:\n",
    "            numbers.extend(map(int, line.split('\\n')))"
   ]
  },
  {
   "cell_type": "markdown",
   "metadata": {},
   "source": [
    "#### Step 1\n",
    "Find the max value within the file"
   ]
  },
  {
   "cell_type": "code",
   "execution_count": 4,
   "metadata": {},
   "outputs": [
    {
     "data": {
      "text/plain": [
       "49999978"
      ]
     },
     "execution_count": 4,
     "metadata": {},
     "output_type": "execute_result"
    }
   ],
   "source": [
    "max(numbers)"
   ]
  },
  {
   "cell_type": "markdown",
   "metadata": {},
   "source": [
    "#### Step 2\n",
    "Find the min value within the file"
   ]
  },
  {
   "cell_type": "code",
   "execution_count": 5,
   "metadata": {},
   "outputs": [
    {
     "data": {
      "text/plain": [
       "-49999996"
      ]
     },
     "execution_count": 5,
     "metadata": {},
     "output_type": "execute_result"
    }
   ],
   "source": [
    "min(numbers)"
   ]
  },
  {
   "cell_type": "markdown",
   "metadata": {},
   "source": [
    "#### Step 3\n",
    "Find the median of the sequence"
   ]
  },
  {
   "cell_type": "code",
   "execution_count": 6,
   "metadata": {},
   "outputs": [],
   "source": [
    "def getMedian(sequence):\n",
    "    sortedSequence = sorted(sequence)\n",
    "    \n",
    "    if len(sortedSequence) % 2 != 0:\n",
    "        return sortedSequence[(len(sortedSequence)+1)//2-1]\n",
    "    else:\n",
    "        lower = sortedSequence[len(sortedSequence)//2-1]\n",
    "        upper = sortedSequence[len(sortedSequence)//2]\n",
    "        return float((lower+upper)/2)"
   ]
  },
  {
   "cell_type": "code",
   "execution_count": 7,
   "metadata": {},
   "outputs": [
    {
     "data": {
      "text/plain": [
       "25216"
      ]
     },
     "execution_count": 7,
     "metadata": {},
     "output_type": "execute_result"
    }
   ],
   "source": [
    "getMedian(numbers)"
   ]
  },
  {
   "cell_type": "markdown",
   "metadata": {},
   "source": [
    "#### Step 4\n",
    "Find the arithmetic mean"
   ]
  },
  {
   "cell_type": "code",
   "execution_count": 8,
   "metadata": {},
   "outputs": [],
   "source": [
    "def getMeanValue(sequence):\n",
    "    return sum(sequence)/len(sequence)"
   ]
  },
  {
   "cell_type": "code",
   "execution_count": 9,
   "metadata": {},
   "outputs": [
    {
     "data": {
      "text/plain": [
       "7364.418442641844"
      ]
     },
     "execution_count": 9,
     "metadata": {},
     "output_type": "execute_result"
    }
   ],
   "source": [
    "getMeanValue(numbers)"
   ]
  },
  {
   "cell_type": "markdown",
   "metadata": {},
   "source": [
    "#### Step 5\n",
    "Find the largest sequence of increasing values"
   ]
  },
  {
   "cell_type": "code",
   "execution_count": 18,
   "metadata": {},
   "outputs": [],
   "source": [
    "def CeilIndex(A, l, r, key): \n",
    "    while (r - l > 1): \n",
    "        m = l + (r - l)//2\n",
    "        if (A[m] >= key): \n",
    "            r = m \n",
    "        else: \n",
    "            l = m \n",
    "    return r \n",
    "\n",
    "def getLIS(A): \n",
    "    tailTable = [0 for i in range(len(A) + 1)] \n",
    "    length = 0\n",
    "    tailTable[0] = A[0] \n",
    "    length = 1\n",
    "    for i in range(1, len(A)): \n",
    "        if (A[i] < tailTable[0]): \n",
    "            tailTable[0] = A[i] \n",
    "        elif (A[i] > tailTable[length-1]): \n",
    "            tailTable[length] = A[i] \n",
    "            length+= 1\n",
    "        else: \n",
    "            tailTable[CeilIndex(tailTable, -1, length-1, A[i])] = A[i] \n",
    "    return length"
   ]
  },
  {
   "cell_type": "code",
   "execution_count": 19,
   "metadata": {},
   "outputs": [
    {
     "data": {
      "text/plain": [
       "6296"
      ]
     },
     "execution_count": 19,
     "metadata": {},
     "output_type": "execute_result"
    }
   ],
   "source": [
    "getLIS(numbers)"
   ]
  },
  {
   "cell_type": "markdown",
   "metadata": {},
   "source": [
    "#### Step 6\n",
    "Find the largest sequence of decreasing values"
   ]
  },
  {
   "cell_type": "code",
   "execution_count": 20,
   "metadata": {},
   "outputs": [],
   "source": [
    "def getLDS(A): \n",
    "    tailTable = [0 for i in range(len(A) + 1)] \n",
    "    length = 0\n",
    "    tailTable[0] = A[0] \n",
    "    length = 1\n",
    "    for i in range(1, len(A)): \n",
    "        if (A[i] > tailTable[0]): \n",
    "            tailTable[0] = A[i] \n",
    "        elif (A[i] < tailTable[length-1]): \n",
    "            tailTable[length] = A[i] \n",
    "            length+= 1\n",
    "        else: \n",
    "            tailTable[CeilIndex(tailTable, -1, length-1, A[i])] = A[i] \n",
    "    return length"
   ]
  },
  {
   "cell_type": "code",
   "execution_count": 21,
   "metadata": {},
   "outputs": [
    {
     "data": {
      "text/plain": [
       "1412431"
      ]
     },
     "execution_count": 21,
     "metadata": {},
     "output_type": "execute_result"
    }
   ],
   "source": [
    "getLDS(numbers)"
   ]
  }
 ],
 "metadata": {
  "kernelspec": {
   "display_name": "Python 3",
   "language": "python",
   "name": "python3"
  },
  "language_info": {
   "codemirror_mode": {
    "name": "ipython",
    "version": 3
   },
   "file_extension": ".py",
   "mimetype": "text/x-python",
   "name": "python",
   "nbconvert_exporter": "python",
   "pygments_lexer": "ipython3",
   "version": "3.7.6"
  }
 },
 "nbformat": 4,
 "nbformat_minor": 4
}
